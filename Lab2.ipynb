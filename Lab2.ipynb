{
 "cells": [
  {
   "cell_type": "markdown",
   "metadata": {},
   "source": [
    "# Laboratorio 2\n",
    "\n",
    "- Brando Reyes\n",
    "- Juan Pablo Solis"
   ]
  },
  {
   "cell_type": "markdown",
   "metadata": {},
   "source": [
    "## Task 1 - Preguntas Teoricas\n",
    "\n",
    "1. ¿Por qué el modelo de Naive Bayes se le considera \"naive\"?\n",
    "    - Este modelo se considera \"Naive\" debido a que asume que todas las características son independientes entre sí, lo cual rara vez es cierto en problemas del mundo real\n",
    "2. Explique la formulación matemática que se busca optimizar en Support Vector Machine, además responda ¿cómo funciona el truco del Kernel para este modelo?\n",
    "3. Investigue sobre Random Forest y responda:\n",
    "    -  ¿Qué tipo de ensemble learning es este modelo?\n",
    "        - Random Forest es un modelo de bagging el cual combina múltiples modelos que se entrenan de manera independiente utilizando diferentes subconjuntos de datos, y luego promedia o vota para obtener la predicción final.\n",
    "    - ¿Cuál es la idea general detrás de Random Forest?\n",
    "        - La idea general de Random Forest es combinar múltiples árboles de decisión para mejorar la precisión y reducir el riesgo de sobreajuste. \n",
    "    - ¿Por qué se busca baja correlación entre los árboles de Random Forest?\n",
    "        - La baja correlación entre los árboles es clave para el éxito de Random Forest porque aumenta su capacidad de generalización. Si los árboles son altamente correlacionados, cometerán los mismos errores, lo que limitaría la mejora obtenida al combinarlos"
   ]
  }
 ],
 "metadata": {
  "language_info": {
   "name": "python"
  }
 },
 "nbformat": 4,
 "nbformat_minor": 2
}
